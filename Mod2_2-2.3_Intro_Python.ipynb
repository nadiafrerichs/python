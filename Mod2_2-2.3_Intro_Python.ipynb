{
  "cells": [
    {
      "metadata": {},
      "cell_type": "markdown",
      "source": "# 2-2.3 Intro Python\n## Lists \n- List Creation\n- List Access\n- List Append\n- **List *modify* and Insert**\n- List Delete\n\n----- \n\n><font size=\"5\" color=\"#00A0B2\"  face=\"verdana\"> <B>Student will be able to</B></font>  \n- Create Lists\n- Access items in a list\n- Add Items to the end of a list\n- **Modify and insert items into a list**\n- Delete items from a list"
    },
    {
      "metadata": {},
      "cell_type": "markdown",
      "source": "# &nbsp;\n<font size=\"6\" color=\"#00A0B2\"  face=\"verdana\"> <B>Concepts</B></font>\n## Insert a new value for an index\n[![view video](https://iajupyterprodblobs.blob.core.windows.net/imagecontainer/common/play_video.png)]( http://edxinteractivepage.blob.core.windows.net/edxpages/f7cff1a7-5601-48a1-95a6-fd1fdfabd20e.html?details=[{\"src\":\"http://jupyternootbookwams.streaming.mediaservices.windows.net/219b35cf-03b5-4b57-8fbc-f5864281312d/Unit2_Section2.3a-Overwriting_an_Index.ism/manifest\",\"type\":\"application/vnd.ms-sstr+xml\"}],[{\"src\":\"http://jupyternootbookwams.streaming.mediaservices.windows.net/219b35cf-03b5-4b57-8fbc-f5864281312d/Unit2_Section2.3a-Overwriting_an_Index.vtt\",\"srclang\":\"en\",\"kind\":\"subtitles\",\"label\":\"english\"}])\n### overwrite a specific index in a list\n```python\nparty_list[2] = \"Tobias\"\n```\n- **Overwrites** existing index\n- **Cannot** use to **Append** a new index to the list\n"
    },
    {
      "metadata": {},
      "cell_type": "markdown",
      "source": "# &nbsp;\n<font size=\"6\" color=\"#00A0B2\"  face=\"verdana\"> <B>Examples</B></font>"
    },
    {
      "metadata": {
        "trusted": false
      },
      "cell_type": "code",
      "source": "# [ ] review and run example\n# the list before Insert\nparty_list = [\"Joana\", \"Alton\", \"Tobias\"]\nprint(\"party_list before: \", party_list)\n\n# the list after Insert\nparty_list[1] = \"Colette\"\nprint(\"party_list after:  \", party_list)",
      "execution_count": null,
      "outputs": []
    },
    {
      "metadata": {
        "trusted": true
      },
      "cell_type": "code",
      "source": "# [ ] review and run example\nparty_list = [\"Joana\", \"Alton\", \"Tobias\"]\nprint(\"before:\",party_list)\n\n# modify index value\nparty_list[1] = party_list[1] + \" Derosa\"\nprint(\"\\nafter:\", party_list)",
      "execution_count": 4,
      "outputs": [
        {
          "output_type": "stream",
          "text": "before: ['Joana', 'Alton', 'Tobias']\n\nafter: ['Joana', 'Alton Derosa', 'Tobias']\n",
          "name": "stdout"
        }
      ]
    },
    {
      "metadata": {},
      "cell_type": "markdown",
      "source": "<font size=\"3\" color=\"#00A0B2\"  face=\"verdana\"> <B>Example</B></font>  \n**IndexError**  "
    },
    {
      "metadata": {
        "trusted": true
      },
      "cell_type": "code",
      "source": "# IndexError Example\n# [ ] review and run example which results in an IndexError\n# if result is NameError run cell above before running this cell\n\n# IndexError trying to append to end of list\nparty_list[3] = \"Alton\"\nprint(party_list)",
      "execution_count": 5,
      "outputs": [
        {
          "output_type": "error",
          "ename": "IndexError",
          "evalue": "list assignment index out of range",
          "traceback": [
            "\u001b[0;31m---------------------------------------------------------------------------\u001b[0m",
            "\u001b[0;31mIndexError\u001b[0m                                Traceback (most recent call last)",
            "\u001b[0;32m<ipython-input-5-a57c1210d89e>\u001b[0m in \u001b[0;36m<module>\u001b[0;34m()\u001b[0m\n\u001b[1;32m      4\u001b[0m \u001b[0;34m\u001b[0m\u001b[0m\n\u001b[1;32m      5\u001b[0m \u001b[0;31m# IndexError trying to append to end of list\u001b[0m\u001b[0;34m\u001b[0m\u001b[0;34m\u001b[0m\u001b[0m\n\u001b[0;32m----> 6\u001b[0;31m \u001b[0mparty_list\u001b[0m\u001b[0;34m[\u001b[0m\u001b[0;36m3\u001b[0m\u001b[0;34m]\u001b[0m \u001b[0;34m=\u001b[0m \u001b[0;34m\"Alton\"\u001b[0m\u001b[0;34m\u001b[0m\u001b[0m\n\u001b[0m\u001b[1;32m      7\u001b[0m \u001b[0mprint\u001b[0m\u001b[0;34m(\u001b[0m\u001b[0mparty_list\u001b[0m\u001b[0;34m)\u001b[0m\u001b[0;34m\u001b[0m\u001b[0m\n",
            "\u001b[0;31mIndexError\u001b[0m: list assignment index out of range"
          ]
        }
      ]
    },
    {
      "metadata": {
        "trusted": false
      },
      "cell_type": "code",
      "source": "# [ ] review and run example changes the data type of an element\n# replace a string with a number (int)\nsingle_digits = [\"zero\", \"one\", \"two\", \"three\", \"four\", \"five\", \"six\", \"seven\", \"eight\", \"nine\"] \nprint(\"single_digits: \", single_digits)\nprint(\"single_digits[3]: \", single_digits[3], type(single_digits[3]),\"\\n\")\n\n# replace string with an int\nsingle_digits[3] = 3\nprint(\"single_digits: \", single_digits)\nprint(\"single_digits[3]: \", single_digits[3], type(single_digits[3]))",
      "execution_count": null,
      "outputs": []
    },
    {
      "metadata": {
        "collapsed": true
      },
      "cell_type": "markdown",
      "source": "# &nbsp;\n<font size=\"6\" color=\"#B24C00\"  face=\"verdana\"> <B>Task 1</B></font>\n\n## replace items in a list\n- create a list, **`three_num`**, containing 3 single digit integers\n- print three_num\n- check if index 0 value is < 5\n  - if < 5 , replace index 0 with a string: \"small\"\n  - else, replace index 0 with a string: \"large\"\n- print three_num"
    },
    {
      "metadata": {
        "trusted": true
      },
      "cell_type": "code",
      "source": "# [ ] complete \"replace items in a list\" task\nthree_num=[10,7,8]\nprint(three_num)\nif three_num[0] <=5:\n    three_num[0]=\"small\"\nelse:\n    three_num[0]=\"large\"\nprint(three_num) \n",
      "execution_count": 12,
      "outputs": [
        {
          "output_type": "stream",
          "text": "[10, 7, 8]\n['large', 7, 8]\n",
          "name": "stdout"
        }
      ]
    },
    {
      "metadata": {},
      "cell_type": "markdown",
      "source": "## Function Challenge: create replacement function\n- Create a function, **str_replace**, that takes 2 arguments: int_list and index \n  - int_list is a list of single digit integers\n  - index is the index that will be checked - such as with int_list[index]\n- Function replicates purpose of task \"replace items in a list\" above and replaces an integer with a string \"small\" or \"large\"\n- return int_list\n\nTest the function!"
    },
    {
      "metadata": {
        "trusted": true
      },
      "cell_type": "code",
      "source": "# [ ]  create challenge function\nint_list=[1,5,6,7,8]\nindex=[0,1,2,3,4]\nfor x in index:\n    if int_list[x]>= 5:\n        int_list[x]=\"large\"\n        \n    else:\n        int_list[x]=\"small\"\n        \nprint(int_list)\n\n",
      "execution_count": 129,
      "outputs": [
        {
          "output_type": "stream",
          "text": "['small', 'large', 'large', 'large', 'large']\n",
          "name": "stdout"
        }
      ]
    },
    {
      "metadata": {
        "collapsed": true
      },
      "cell_type": "markdown",
      "source": "# &nbsp;\n<font size=\"6\" color=\"#B24C00\"  face=\"verdana\"> <B>Task 2</B></font>\n\n## modify items in a list\n- create a list, **`three_words`**, containing 3 different capitalized word stings\n- print three_words\n- modify the first item in three_words to uppercase\n- modify the third item to swapcase\n- print three_words"
    },
    {
      "metadata": {
        "trusted": true
      },
      "cell_type": "code",
      "source": "# [ ] complete coding task described above\nthree_words=[\"corona\", \"virus\", \"boring\"]\nthree_words[0]=three_words[0].upper()\nthree_words[2]=three_words[2].swapcase()\nprint(three_words)\n",
      "execution_count": 23,
      "outputs": [
        {
          "output_type": "stream",
          "text": "['CORONA', 'virus', 'BORING']\n",
          "name": "stdout"
        }
      ]
    },
    {
      "metadata": {},
      "cell_type": "markdown",
      "source": "# &nbsp;\n<font size=\"6\" color=\"#00A0B2\"  face=\"verdana\"> <B>Concepts</B></font>\n## Insert items into a list\n[![view video](https://iajupyterprodblobs.blob.core.windows.net/imagecontainer/common/play_video.png)]( http://edxinteractivepage.blob.core.windows.net/edxpages/f7cff1a7-5601-48a1-95a6-fd1fdfabd20e.html?details=[{\"src\":\"http://jupyternootbookwams.streaming.mediaservices.windows.net/659b9cd2-1e84-4ead-8a69-015c737577cd/Unit2_Section2.3b-Inserting_Items_into_Lists.ism/manifest\",\"type\":\"application/vnd.ms-sstr+xml\"}],[{\"src\":\"http://jupyternootbookwams.streaming.mediaservices.windows.net/659b9cd2-1e84-4ead-8a69-015c737577cd/Unit2_Section2.3b-Inserting_Items_into_Lists.vtt\",\"srclang\":\"en\",\"kind\":\"subtitles\",\"label\":\"english\"}])\n### use `.insert()` to define an index to insert an item\n```python\nparty_list.insert(2,\"Tobias\")\n```\n- Inserts, **doesn't overwrite**\n- **Increases index by 1**, at and above the insertion point\n- **Can** use to **Append** a new index to the end of the list\n"
    },
    {
      "metadata": {},
      "cell_type": "markdown",
      "source": "# &nbsp;\n<font size=\"6\" color=\"#00A0B2\"  face=\"verdana\"> <B>Examples</B></font>"
    },
    {
      "metadata": {
        "trusted": false
      },
      "cell_type": "code",
      "source": "# [ ] review and run example\n# the list before Insert\nparty_list = [\"Joana\", \"Alton\", \"Tobias\"]\nprint(\"party_list before: \", party_list)\nprint(\"index 1 is\", party_list[1], \"\\nindex 2 is\", party_list[2], \"\\n\")\n\n# the list after Insert\nparty_list.insert(1,\"Colette\")\nprint(\"party_list after:  \", party_list)\nprint(\"index 1 is\", party_list[1], \"\\nindex 2 is\", party_list[2], \"\\nindex 3 is\", party_list[3])",
      "execution_count": null,
      "outputs": []
    },
    {
      "metadata": {
        "collapsed": true
      },
      "cell_type": "markdown",
      "source": "# &nbsp;\n<font size=\"6\" color=\"#B24C00\"  face=\"verdana\"> <B>Task 3</B></font>  \n## `insert()` input into a list "
    },
    {
      "metadata": {
        "trusted": true
      },
      "cell_type": "code",
      "source": "# [ ] insert a name from user input into the party_list in the second position (index 1)\nparty_list = [\"Joana\", \"Alton\", \"Tobias\"]\nparty_list.insert(3,\"Nadia\")\nprint(party_list)\n# [ ] print the updated list\n\n",
      "execution_count": 1,
      "outputs": [
        {
          "output_type": "stream",
          "text": "['Joana', 'Alton', 'Tobias', 'Nadia']\n",
          "name": "stdout"
        }
      ]
    },
    {
      "metadata": {},
      "cell_type": "markdown",
      "source": "# &nbsp;\n<font size=\"6\" color=\"#B24C00\"  face=\"verdana\"> <B>Task 4</B></font>\n## Fix The Error\n"
    },
    {
      "metadata": {
        "trusted": true
      },
      "cell_type": "code",
      "source": "# [ ] Fix the Error\ntree_list = [\"oak\"]\nprint(\"tree_list before =\", tree_list)\ntree_list.insert(1,\"pine\")\nprint(\"tree_list after  =\", tree_list)\n\n",
      "execution_count": 3,
      "outputs": [
        {
          "output_type": "stream",
          "text": "tree_list before = ['oak']\ntree_list after  = ['oak', 'pine']\n",
          "name": "stdout"
        }
      ]
    },
    {
      "metadata": {},
      "cell_type": "markdown",
      "source": "[Terms of use](http://go.microsoft.com/fwlink/?LinkID=206977) &nbsp; [Privacy & cookies](https://go.microsoft.com/fwlink/?LinkId=521839) &nbsp; © 2017 Microsoft"
    }
  ],
  "metadata": {
    "anaconda-cloud": {},
    "kernelspec": {
      "name": "python3",
      "display_name": "Python 3",
      "language": "python"
    }
  },
  "nbformat": 4,
  "nbformat_minor": 1
}